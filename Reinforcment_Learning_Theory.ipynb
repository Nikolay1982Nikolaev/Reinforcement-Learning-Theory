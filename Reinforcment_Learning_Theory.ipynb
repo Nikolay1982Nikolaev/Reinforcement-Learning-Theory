{
  "nbformat": 4,
  "nbformat_minor": 0,
  "metadata": {
    "colab": {
      "provenance": [],
      "toc_visible": true,
      "authorship_tag": "ABX9TyN59Ri3hNRLHoPt/1uH8gBW",
      "include_colab_link": true
    },
    "kernelspec": {
      "name": "python3",
      "display_name": "Python 3"
    },
    "language_info": {
      "name": "python"
    }
  },
  "cells": [
    {
      "cell_type": "markdown",
      "metadata": {
        "id": "view-in-github",
        "colab_type": "text"
      },
      "source": [
        "<a href=\"https://colab.research.google.com/github/Nikolay1982Nikolaev/Reinforcement-Learning-Theory/blob/main/Reinforcment_Learning_Theory.ipynb\" target=\"_parent\"><img src=\"https://colab.research.google.com/assets/colab-badge.svg\" alt=\"Open In Colab\"/></a>"
      ]
    },
    {
      "cell_type": "markdown",
      "source": [
        "## The Return in RL"
      ],
      "metadata": {
        "id": "WYalJYP86QVt"
      }
    },
    {
      "cell_type": "markdown",
      "source": [
        "## Making decisions: Policies in RL"
      ],
      "metadata": {
        "id": "7Hhdl5am6QYl"
      }
    },
    {
      "cell_type": "markdown",
      "source": [
        "## Revie of Key concepts:\n",
        "\n",
        "- states\n",
        "- actions\n",
        "- rewards\n",
        "- discount factor $\\gamma$\n",
        "- retunrn\n",
        "plicy $\\pi$"
      ],
      "metadata": {
        "id": "gffkIS866QbI"
      }
    },
    {
      "cell_type": "markdown",
      "source": [
        "## Markov Decision Proces - MDP\n",
        "\n",
        "- feature depend of the current state\n"
      ],
      "metadata": {
        "id": "UYJidYiy6Qdg"
      }
    },
    {
      "cell_type": "markdown",
      "source": [
        "# State- action value function:\n"
      ],
      "metadata": {
        "id": "MR07y20l6Qf6"
      }
    },
    {
      "cell_type": "markdown",
      "source": [
        "## Bellman Equation:\n",
        "\n",
        "to compute state action duntion\n",
        "\n"
      ],
      "metadata": {
        "id": "Xs69pwIb6QiY"
      }
    },
    {
      "cell_type": "markdown",
      "source": [
        "# Continuous state spaces:\n",
        "\n",
        "## Explanation"
      ],
      "metadata": {
        "id": "Adf2tJdf6Qk1"
      }
    },
    {
      "cell_type": "markdown",
      "source": [
        "## Deep Reinforcment Learning:\n",
        "## Learning the state- value function\n"
      ],
      "metadata": {
        "id": "Ivu9yFzt6QnK"
      }
    },
    {
      "cell_type": "markdown",
      "source": [
        "## Algorithm refinement: Improved neural network architecture"
      ],
      "metadata": {
        "id": "QpKrf9Ra6Qpw"
      }
    },
    {
      "cell_type": "markdown",
      "source": [
        "## Algorithm refinement: ϵ-greedy policy"
      ],
      "metadata": {
        "id": "NHAQBv7l6Qr1"
      }
    },
    {
      "cell_type": "markdown",
      "source": [],
      "metadata": {
        "id": "5bjk7I0P6QuJ"
      }
    },
    {
      "cell_type": "markdown",
      "source": [],
      "metadata": {
        "id": "ci_FW_tT6Qwl"
      }
    },
    {
      "cell_type": "markdown",
      "source": [],
      "metadata": {
        "id": "bEHTr27I6Qy0"
      }
    },
    {
      "cell_type": "markdown",
      "source": [],
      "metadata": {
        "id": "aCrcuD6G6Q1X"
      }
    },
    {
      "cell_type": "markdown",
      "source": [],
      "metadata": {
        "id": "hBNmFvgL6Q3f"
      }
    },
    {
      "cell_type": "markdown",
      "source": [],
      "metadata": {
        "id": "4OiKcoc76Q6I"
      }
    }
  ]
}